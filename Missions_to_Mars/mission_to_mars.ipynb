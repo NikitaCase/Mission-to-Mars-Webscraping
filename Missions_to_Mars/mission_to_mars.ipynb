{
 "cells": [
  {
   "cell_type": "code",
   "execution_count": 1,
   "metadata": {},
   "outputs": [],
   "source": [
    "# Import Dependencies \n",
    "import pandas as pd \n",
    "import requests \n",
    "from bs4 import BeautifulSoup as bs \n",
    "import json\n",
    "from splinter import Browser"
   ]
  },
  {
   "cell_type": "code",
   "execution_count": 2,
   "metadata": {},
   "outputs": [],
   "source": [
    "# Creating a path for browser used to scrape dynamic website \n",
    "chrome_path = 'driver/chromedriver.exe'\n",
    "\n",
    "executable_path = {'executable_path' : chrome_path}\n",
    "browser = Browser('chrome', **executable_path, headless=False)\n"
   ]
  },
  {
   "cell_type": "code",
   "execution_count": 3,
   "metadata": {},
   "outputs": [],
   "source": [
    "# Opening news section in browser\n",
    "news_url = 'https://mars.nasa.gov/news/'\n",
    "browser.visit(news_url)"
   ]
  },
  {
   "cell_type": "code",
   "execution_count": 6,
   "metadata": {},
   "outputs": [],
   "source": [
    "# Passing the html page to beautiful soup \n",
    "news_html = browser.html\n",
    "news = bs(news_html, 'html.parser')\n",
    "#print(news.prettify())"
   ]
  },
  {
   "cell_type": "code",
   "execution_count": null,
   "metadata": {},
   "outputs": [],
   "source": [
    "'''\n",
    "Each article\n",
    "<li class=\"slide\">\n",
    "    <div class=\"image_and_description_container\">\n",
    "        class=\"list_text\"\n",
    "            class=\"content_title\"\n",
    "                class=\"article_teaser_body\"\n",
    "'''"
   ]
  },
  {
   "cell_type": "code",
   "execution_count": 17,
   "metadata": {},
   "outputs": [],
   "source": [
    "# Finding the first title and paragraph on the page (lastest news) & assigning variable names \n",
    "\n",
    "news_title = news.find_all('div', class_='content_title')[1].text\n",
    "news_p = news.find('div', class_='article_teaser_body').text"
   ]
  },
  {
   "cell_type": "code",
   "execution_count": 18,
   "metadata": {},
   "outputs": [
    {
     "output_type": "execute_result",
     "data": {
      "text/plain": [
       "\"A Martian Roundtrip: NASA's Perseverance Rover Sample Tubes\""
      ]
     },
     "metadata": {},
     "execution_count": 18
    }
   ],
   "source": [
    "news_title"
   ]
  },
  {
   "cell_type": "code",
   "execution_count": 19,
   "metadata": {},
   "outputs": [
    {
     "output_type": "execute_result",
     "data": {
      "text/plain": [
       "\"Marvels of engineering, the rover's sample tubes must be tough enough to safely bring Red Planet samples on the long journey back to Earth in immaculate condition. \""
      ]
     },
     "metadata": {},
     "execution_count": 19
    }
   ],
   "source": [
    "news_p"
   ]
  },
  {
   "cell_type": "code",
   "execution_count": 20,
   "metadata": {},
   "outputs": [],
   "source": [
    "# Opening jet propulsion lab website\n",
    "jpl_url = 'https://www.jpl.nasa.gov/spaceimages/?search=&category=Mars'\n",
    "browser.visit(jpl_url)"
   ]
  },
  {
   "cell_type": "code",
   "execution_count": 21,
   "metadata": {},
   "outputs": [],
   "source": [
    "# Converting html page to a beautiful soup object \n",
    "jpl_html = browser.html\n",
    "jpl = bs(jpl_html, 'html.parser')\n",
    "#print(jpl.prettify())"
   ]
  },
  {
   "cell_type": "code",
   "execution_count": null,
   "metadata": {},
   "outputs": [],
   "source": [
    "'''\n",
    "Featured image \n",
    "<article \n",
    "    alt=\"NASA Spacecraft Tracks Argentine Flooding\" \n",
    "    class=\"carousel_item\" \n",
    "    style=\"background-image: url('/spaceimages/images/wallpaper/PIA19871-1920x1200.jpg');\">\n",
    "\n",
    "    image has now changed to neptune \n",
    "'''"
   ]
  },
  {
   "cell_type": "code",
   "execution_count": 22,
   "metadata": {},
   "outputs": [
    {
     "output_type": "execute_result",
     "data": {
      "text/plain": [
       "'https://www.jpl.nasa.gov/spaceimages/images/wallpaper/PIA00046-1920x1200.jpg'"
      ]
     },
     "metadata": {},
     "execution_count": 22
    }
   ],
   "source": [
    "# extracting the url for the featured image\n",
    "site_dir = jpl_url.split('?')[0]\n",
    "rel_image_path = jpl.find('article', class_='carousel_item')['style']\n",
    "rel_image_path = rel_image_path.split('spaceimages/')[1].split(\"'\")[0]\n",
    "featured_image_url = site_dir+rel_image_path\n",
    "featured_image_url\n"
   ]
  },
  {
   "cell_type": "code",
   "execution_count": null,
   "metadata": {},
   "outputs": [],
   "source": []
  },
  {
   "cell_type": "code",
   "execution_count": 23,
   "metadata": {},
   "outputs": [],
   "source": [
    "#Opening Mars Facts url \n",
    "facts_url ='https://space-facts.com/mars/'\n",
    "browser.visit(facts_url)"
   ]
  },
  {
   "cell_type": "code",
   "execution_count": 24,
   "metadata": {
    "tags": [
     "outputPrepend"
    ]
   },
   "outputs": [
    {
     "output_type": "stream",
     "name": "stdout",
     "text": [
      "ace-facts.com&amp;dtd=424\" style=\"left:0;position:absolute;top:0;border:0;width:400px;height:280px;\" vspace=\"0\" width=\"400\">\n             </iframe>\n            </ins>\n           </ins>\n          </ins>\n          <script>\n           (adsbygoogle = window.adsbygoogle || []).push({});\n          </script>\n         </center>\n        </div>\n       </div>\n      </div>\n      <div class=\"widget widget_text widget-bottom\" id=\"text-69\">\n       <div class=\"textwidget\">\n        <h3 class=\"widget-title widget-header\">\n         Related space facts:\n        </h3>\n        <div class=\"jp-relatedposts\" id=\"jp-relatedposts\" style=\"display: block;\">\n         <div class=\"jp-relatedposts-items jp-relatedposts-items-visual jp-relatedposts-grid\">\n          <div class=\"jp-relatedposts-post jp-relatedposts-post0 jp-relatedposts-post-thumbs\" data-post-format=\"false\" data-post-id=\"424\">\n           <a class=\"jp-relatedposts-post-a\" data-origin=\"7\" data-position=\"0\" href=\"https://space-facts.com/terrestrial-planets/\" title=\"Terrestrial Planet Facts\">\n            <img alt=\"Terrestrial Planet Orbits\" class=\"jp-relatedposts-post-img\" src=\"https://i1.wp.com/space-facts.com/wp-content/uploads/terrestrial-planet-orbits.png?resize=350%2C200&amp;ssl=1\" width=\"350\"/>\n           </a>\n           <h4 class=\"jp-relatedposts-post-title\">\n            <a class=\"jp-relatedposts-post-a\" data-origin=\"7\" data-position=\"0\" href=\"https://space-facts.com/terrestrial-planets/\" title=\"Terrestrial Planet Facts\">\n             Terrestrial Planet Facts\n            </a>\n           </h4>\n           <p class=\"jp-relatedposts-post-excerpt\">\n            The four innermost planets of our solar system (Mercury, Venus, Earth and Mars) are called the \"terrestrial\" planets. The name comes from the word \"telluric\" derived from the Latin words \"terra\" and \"tellus\", used to refer to Earth. They are made mostly of silicate rocks and metals, with solid surfaces…\n           </p>\n          </div>\n          <div class=\"jp-relatedposts-post jp-relatedposts-post1 jp-relatedposts-post-thumbs\" data-post-format=\"false\" data-post-id=\"119\">\n           <a class=\"jp-relatedposts-post-a\" data-origin=\"7\" data-position=\"1\" href=\"https://space-facts.com/earth/\" title=\"Earth Facts\">\n            <img alt=\"Earth\" class=\"jp-relatedposts-post-img\" src=\"https://i1.wp.com/space-facts.com/wp-content/uploads/earth.png?resize=350%2C200&amp;ssl=1\" width=\"350\"/>\n           </a>\n           <h4 class=\"jp-relatedposts-post-title\">\n            <a class=\"jp-relatedposts-post-a\" data-origin=\"7\" data-position=\"1\" href=\"https://space-facts.com/earth/\" title=\"Earth Facts\">\n             Earth Facts\n            </a>\n           </h4>\n           <p class=\"jp-relatedposts-post-excerpt\">\n            Earth is the third planet from the Sun and is the largest of the terrestrial planets. The Earth is the only planet in our solar system not to be named after a Greek or Roman deity. The Earth was formed approximately 4.54 billion years ago and is the only known…\n           </p>\n          </div>\n          <div class=\"jp-relatedposts-post jp-relatedposts-post2 jp-relatedposts-post-thumbs\" data-post-format=\"false\" data-post-id=\"460\">\n           <a class=\"jp-relatedposts-post-a\" data-origin=\"7\" data-position=\"2\" href=\"https://space-facts.com/asteroids/\" title=\"Asteroid Facts\">\n            <img alt=\"Asteroid Vesta\" class=\"jp-relatedposts-post-img\" src=\"https://i0.wp.com/space-facts.com/wp-content/uploads/asteroid-vesta.png?resize=350%2C200&amp;ssl=1\" width=\"350\"/>\n           </a>\n           <h4 class=\"jp-relatedposts-post-title\">\n            <a class=\"jp-relatedposts-post-a\" data-origin=\"7\" data-position=\"2\" href=\"https://space-facts.com/asteroids/\" title=\"Asteroid Facts\">\n             Asteroid Facts\n            </a>\n           </h4>\n           <p class=\"jp-relatedposts-post-excerpt\">\n            What is an Asteroid? Asteroids are small, rocky solar system bodies that populate interplanetary space out to the orbit of Jupiter. There are millions of them, and they are often grouped by their composition. The planetary science community refers to them as minor planets, a general term applied to solar…\n           </p>\n          </div>\n         </div>\n        </div>\n       </div>\n      </div>\n      <div class=\"comments-area\" id=\"comments\">\n      </div>\n     </main>\n    </section>\n    <section class=\"sidebar widget-area clearfix\" id=\"secondary\" role=\"complementary\" style=\"height: auto !important;\">\n     <aside class=\"widget widget_text clearfix\" id=\"text-2\">\n      <div class=\"widget-header\">\n       <h3 class=\"widget-title\">\n        Mars Planet Profile\n       </h3>\n      </div>\n      <div class=\"textwidget\">\n       <table class=\"tablepress tablepress-id-p-mars\" id=\"tablepress-p-mars-no-2\">\n        <tbody>\n         <tr class=\"row-1 odd\">\n          <td class=\"column-1\">\n           <strong>\n            Equatorial Diameter:\n           </strong>\n          </td>\n          <td class=\"column-2\">\n           6,792 km\n           <br/>\n          </td>\n         </tr>\n         <tr class=\"row-2 even\">\n          <td class=\"column-1\">\n           <strong>\n            Polar Diameter:\n           </strong>\n          </td>\n          <td class=\"column-2\">\n           6,752 km\n           <br/>\n          </td>\n         </tr>\n         <tr class=\"row-3 odd\">\n          <td class=\"column-1\">\n           <strong>\n            Mass:\n           </strong>\n          </td>\n          <td class=\"column-2\">\n           6.39 × 10^23 kg\n           <br/>\n           (0.11 Earths)\n          </td>\n         </tr>\n         <tr class=\"row-4 even\">\n          <td class=\"column-1\">\n           <strong>\n            Moons:\n           </strong>\n          </td>\n          <td class=\"column-2\">\n           2 (\n           <a href=\"https://space-facts.com/moons/phobos/\">\n            Phobos\n           </a>\n           &amp;\n           <a href=\"https://space-facts.com/moons/deimos/\">\n            Deimos\n           </a>\n           )\n          </td>\n         </tr>\n         <tr class=\"row-5 odd\">\n          <td class=\"column-1\">\n           <strong>\n            Orbit Distance:\n           </strong>\n          </td>\n          <td class=\"column-2\">\n           227,943,824 km\n           <br/>\n           (1.38 AU)\n          </td>\n         </tr>\n         <tr class=\"row-6 even\">\n          <td class=\"column-1\">\n           <strong>\n            Orbit Period:\n           </strong>\n          </td>\n          <td class=\"column-2\">\n           687 days (1.9 years)\n           <br/>\n          </td>\n         </tr>\n         <tr class=\"row-7 odd\">\n          <td class=\"column-1\">\n           <strong>\n            Surface Temperature:\n           </strong>\n          </td>\n          <td class=\"column-2\">\n           -87 to -5 °C\n          </td>\n         </tr>\n         <tr class=\"row-8 even\">\n          <td class=\"column-1\">\n           <strong>\n            First Record:\n           </strong>\n          </td>\n          <td class=\"column-2\">\n           2nd millennium BC\n          </td>\n         </tr>\n         <tr class=\"row-9 odd\">\n          <td class=\"column-1\">\n           <strong>\n            Recorded By:\n           </strong>\n          </td>\n          <td class=\"column-2\">\n           Egyptian astronomers\n          </td>\n         </tr>\n        </tbody>\n       </table>\n      </div>\n     </aside>\n     <aside class=\"widget_text widget widget_custom_html clearfix\" id=\"custom_html-7\">\n      <div class=\"widget-header\">\n       <h3 class=\"widget-title\">\n        Planets\n       </h3>\n      </div>\n      <div class=\"textwidget custom-html-widget\">\n       <ul class=\"widgets-list-layout\">\n        <li>\n         <a href=\"/mercury/\">\n          <img alt=\"Mercury Facts\" height=\"50\" src=\"https://space-facts.com/wp-content/uploads/mercury-50x50.png\" width=\"50\"/>\n          <div class=\"widgets-list-layout-links\">\n           Mercury\n          </div>\n         </a>\n        </li>\n        <li>\n         <a href=\"/venus/\">\n          <img alt=\"Venus Facts\" height=\"50\" src=\"https://space-facts.com/wp-content/uploads/venus-50x50.png\" width=\"50\"/>\n          <div class=\"widgets-list-layout-links\">\n           Venus\n          </div>\n         </a>\n        </li>\n        <li>\n         <a href=\"/earth/\">\n          <img alt=\"Earth Facts\" height=\"50\" src=\"https://space-facts.com/wp-content/uploads/earth-50x50.png\" width=\"50\"/>\n          <div class=\"widgets-list-layout-links\">\n           Earth\n          </div>\n         </a>\n        </li>\n        <li>\n         <a href=\"/mars/\">\n          <img alt=\"Mars Facts\" height=\"50\" src=\"https://space-facts.com/wp-content/uploads/mars-50x50.jpg\" width=\"50\"/>\n          <div class=\"widgets-list-layout-links\">\n           Mars\n          </div>\n         </a>\n        </li>\n        <li>\n         <a href=\"/jupiter/\">\n          <img alt=\"Jupiter Facts\" height=\"50\" src=\"https://space-facts.com/wp-content/uploads/jupiter-50x50.png\" width=\"50\"/>\n          <div class=\"widgets-list-layout-links\">\n           Jupiter\n          </div>\n         </a>\n        </li>\n        <li>\n         <a href=\"/saturn/\">\n          <img alt=\"Saturn Facts\" height=\"50\" src=\"https://space-facts.com/wp-content/uploads/saturn-50x50.png\" width=\"50\"/>\n          <div class=\"widgets-list-layout-links\">\n           Saturn\n          </div>\n         </a>\n        </li>\n        <li>\n         <a href=\"/uranus/\">\n          <img alt=\"Uranus Facts\" height=\"50\" src=\"https://space-facts.com/wp-content/uploads/uranus-50x50.jpg\" width=\"50\"/>\n          <div class=\"widgets-list-layout-links\">\n           Uranus\n          </div>\n         </a>\n        </li>\n        <li>\n         <a href=\"/neptune/\">\n          <img alt=\"Neptune Facts\" height=\"50\" src=\"https://space-facts.com/wp-content/uploads/neptune-50x50.png\" width=\"50\"/>\n          <div class=\"widgets-list-layout-links\">\n           Neptune\n          </div>\n         </a>\n        </li>\n       </ul>\n      </div>\n     </aside>\n     <aside class=\"widget_text widget widget_custom_html clearfix\" id=\"custom_html-4\">\n      <div class=\"textwidget custom-html-widget\">\n       <script async=\"\" src=\"https://pagead2.googlesyndication.com/pagead/js/adsbygoogle.js\">\n       </script>\n       <ins class=\"adsbygoogle\" data-ad-client=\"ca-pub-4251889121233823\" data-ad-format=\"vertical\" data-ad-slot=\"3223531810\" data-adsbygoogle-status=\"done\" data-full-width-responsive=\"true\" style=\"display: block; height: 600px;\">\n        <ins aria-label=\"Advertisement\" id=\"aswift_3_expand\" style=\"display:inline-table;border:none;height:600px;margin:0;padding:0;position:relative;visibility:visible;width:300px;background-color:transparent;\" tabindex=\"0\" title=\"Advertisement\">\n         <ins id=\"aswift_3_anchor\" style=\"display: block; border: none; height: 600px; margin: 0px; padding: 0px; position: relative; visibility: visible; width: 300px; background-color: transparent; overflow: visible;\">\n          <iframe allowfullscreen=\"true\" allowtransparency=\"true\" data-google-container-id=\"a!3\" data-google-query-id=\"CKXDw_f-7-0CFQ8J-QAdvH0FuQ\" data-load-complete=\"true\" frameborder=\"0\" height=\"600\" hspace=\"0\" id=\"aswift_3\" marginheight=\"0\" marginwidth=\"0\" name=\"aswift_3\" sandbox=\"allow-forms allow-popups allow-popups-to-escape-sandbox allow-same-origin allow-scripts allow-top-navigation-by-user-activation\" scrolling=\"no\" src=\"https://googleads.g.doubleclick.net/pagead/ads?guci=2.2.0.0.2.2.0.0&amp;client=ca-pub-4251889121233823&amp;output=html&amp;h=600&amp;slotname=3223531810&amp;adk=2713548534&amp;adf=4114466516&amp;pi=t.ma~as.3223531810&amp;w=300&amp;fwrn=4&amp;fwrnh=100&amp;lmt=1609134980&amp;rafmt=4&amp;psa=0&amp;format=300x600&amp;url=https%3A%2F%2Fspace-facts.com%2Fmars%2F&amp;flash=0&amp;fwr=0&amp;fwrattr=true&amp;rpe=1&amp;resp_fmts=4&amp;wgl=1&amp;tt_state=W3siaXNzdWVyT3JpZ2luIjoiaHR0cHM6Ly9hZHNlcnZpY2UuZ29vZ2xlLmNvbSIsInN0YXRlIjowfSx7Imlzc3Vlck9yaWdpbiI6Imh0dHBzOi8vYXR0ZXN0YXRpb24uYW5kcm9pZC5jb20iLCJzdGF0ZSI6MH1d&amp;dt=1609134980482&amp;bpp=4&amp;bdt=803&amp;idt=436&amp;shv=r20201203&amp;cbv=r20190131&amp;ptt=9&amp;saldr=aa&amp;abxe=1&amp;prev_fmts=0x0%2C728x90%2C400x280&amp;nras=1&amp;correlator=1866829535480&amp;frm=20&amp;pv=1&amp;ga_vid=1688173569.1609134980&amp;ga_sid=1609134981&amp;ga_hid=1792517744&amp;ga_fc=0&amp;u_tz=-300&amp;u_his=4&amp;u_java=0&amp;u_h=1440&amp;u_w=2560&amp;u_ah=1400&amp;u_aw=2560&amp;u_cd=24&amp;u_nplug=3&amp;u_nmime=4&amp;adx=743&amp;ady=1529&amp;biw=1079&amp;bih=1248&amp;scr_x=0&amp;scr_y=0&amp;oid=3&amp;pvsid=3122086264516093&amp;pem=996&amp;rx=0&amp;eae=0&amp;fc=1920&amp;brdim=2556%2C4%2C2556%2C4%2C2560%2C0%2C1667%2C1380%2C1096%2C1248&amp;vis=1&amp;rsz=%7C%7CeEbr%7C&amp;abl=CS&amp;pfx=0&amp;fu=8320&amp;bc=31&amp;ifi=3&amp;uci=a!3&amp;btvi=2&amp;fsb=1&amp;xpc=4euorDrjSu&amp;p=https%3A//space-facts.com&amp;dtd=442\" style=\"left:0;position:absolute;top:0;border:0;width:300px;height:600px;\" vspace=\"0\" width=\"300\">\n          </iframe>\n         </ins>\n        </ins>\n       </ins>\n       <script>\n        (adsbygoogle = window.adsbygoogle || []).push({});\n       </script>\n      </div>\n     </aside>\n     <aside class=\"widget widget_recent_entries clearfix\" id=\"recent-posts-2\">\n      <div class=\"widget-header\">\n       <h3 class=\"widget-title\">\n        Recent Posts\n       </h3>\n      </div>\n      <ul>\n       <li>\n        <a href=\"https://space-facts.com/dr-james-odonoghues-space-animations/\">\n         Dr James O’Donoghue’s Space Animations\n        </a>\n       </li>\n       <li>\n        <a href=\"https://space-facts.com/googles-planet-scale-mistake/\">\n         Google’s Planet Scale Mistake\n        </a>\n       </li>\n       <li>\n        <a href=\"https://space-facts.com/the-ultimate-list-of-tv-shows-set-in-space-or-on-other-planets/\">\n         The Ultimate List of TV Shows set in Space or on Other Planets\n        </a>\n       </li>\n       <li>\n        <a href=\"https://space-facts.com/jupiters-galilean-moons-profile-gifs/\">\n         Jupiter’s Galilean Moons (Profile Gifs)\n        </a>\n       </li>\n       <li>\n        <a href=\"https://space-facts.com/planets-moons-star-wars/\">\n         The Planets and Moons of Star Wars to Scale\n        </a>\n       </li>\n       <li>\n        <a href=\"https://space-facts.com/planet-orbits/\">\n         Planet Orbits\n        </a>\n       </li>\n      </ul>\n     </aside>\n    </section>\n   </div>\n   <div class=\"footer-widgets-wrap\" id=\"footer-widgets-wrap\">\n    <div class=\"footer-widgets container\" id=\"footer-widgets\">\n     <div class=\"footer-widgets-columns clearfix\" id=\"footer-widgets-columns\" role=\"complementary\">\n      <div class=\"footer-widget-column\">\n      </div>\n     </div>\n    </div>\n   </div>\n   <div class=\"footer-wrap\" id=\"footer\">\n    <footer class=\"site-footer container clearfix\" id=\"colophon\" role=\"contentinfo\">\n     <div class=\"site-info\" id=\"footer-text\">\n      © Copyright 2019 Space Facts\n     </div>\n     <nav class=\"footer-navigation navigation clearfix\" id=\"footer-navigation\" role=\"navigation\">\n      <ul class=\"footer-navigation-menu\" id=\"menu-footer\">\n       <li class=\"menu-item menu-item-type-post_type menu-item-object-page menu-item-5584\" id=\"menu-item-5584\">\n        <a href=\"https://space-facts.com/blog/\">\n         Blog\n        </a>\n       </li>\n       <li class=\"menu-item menu-item-type-post_type menu-item-object-page menu-item-5585\" id=\"menu-item-5585\">\n        <a href=\"https://space-facts.com/about/\">\n         About\n        </a>\n       </li>\n       <li class=\"menu-item menu-item-type-post_type menu-item-object-page menu-item-5595\" id=\"menu-item-5595\">\n        <a href=\"https://space-facts.com/contact/\">\n         Contact\n        </a>\n       </li>\n       <li class=\"menu-item menu-item-type-post_type menu-item-object-page menu-item-5589\" id=\"menu-item-5589\">\n        <a href=\"https://space-facts.com/privacy-policy/\">\n         Privacy Policy\n        </a>\n       </li>\n      </ul>\n     </nav>\n    </footer>\n   </div>\n  </div>\n  <ins class=\"adsbygoogle adsbygoogle-noablate\" data-adsbygoogle-status=\"done\" style=\"display: none !important;\">\n   <ins aria-label=\"Advertisement\" id=\"aswift_0_expand\" style=\"display:inline-table;border:none;height:0px;margin:0;padding:0;position:relative;visibility:visible;width:0px;background-color:transparent;\" tabindex=\"0\" title=\"Advertisement\">\n    <ins id=\"aswift_0_anchor\" style=\"display:block;border:none;height:0px;margin:0;padding:0;position:relative;visibility:visible;width:0px;background-color:transparent;\">\n     <iframe allowfullscreen=\"true\" allowtransparency=\"true\" data-google-container-id=\"a!0\" data-load-complete=\"true\" frameborder=\"0\" hspace=\"0\" id=\"aswift_0\" marginheight=\"0\" marginwidth=\"0\" name=\"aswift_0\" sandbox=\"allow-forms allow-popups allow-popups-to-escape-sandbox allow-same-origin allow-scripts allow-top-navigation-by-user-activation\" scrolling=\"no\" src=\"https://googleads.g.doubleclick.net/pagead/ads?guci=2.2.0.0.2.2.0.0&amp;client=ca-pub-4251889121233823&amp;output=html&amp;adk=1812271804&amp;adf=3025194257&amp;lmt=1609134980&amp;plat=1%3A16809984%2C2%3A32768%2C9%3A32768%2C10%3A32%2C11%3A32%2C16%3A8388608%2C17%3A32%2C24%3A32%2C25%3A32%2C30%3A1048576%2C32%3A32%2C40%3A32&amp;format=0x0&amp;url=https%3A%2F%2Fspace-facts.com%2Fmars%2F&amp;ea=0&amp;flash=0&amp;pra=5&amp;wgl=1&amp;tt_state=W3siaXNzdWVyT3JpZ2luIjoiaHR0cHM6Ly9hZHNlcnZpY2UuZ29vZ2xlLmNvbSIsInN0YXRlIjowfSx7Imlzc3Vlck9yaWdpbiI6Imh0dHBzOi8vYXR0ZXN0YXRpb24uYW5kcm9pZC5jb20iLCJzdGF0ZSI6MH1d&amp;dt=1609134980456&amp;bpp=8&amp;bdt=776&amp;idt=379&amp;shv=r20201203&amp;cbv=r20190131&amp;ptt=9&amp;saldr=aa&amp;abxe=1&amp;nras=1&amp;correlator=1866829535480&amp;frm=20&amp;pv=2&amp;ga_vid=1688173569.1609134980&amp;ga_sid=1609134981&amp;ga_hid=1792517744&amp;ga_fc=0&amp;u_tz=-300&amp;u_his=4&amp;u_java=0&amp;u_h=1440&amp;u_w=2560&amp;u_ah=1400&amp;u_aw=2560&amp;u_cd=24&amp;u_nplug=3&amp;u_nmime=4&amp;adx=-12245933&amp;ady=-12245933&amp;biw=1079&amp;bih=1248&amp;scr_x=0&amp;scr_y=0&amp;oid=3&amp;pvsid=3122086264516093&amp;pem=996&amp;rx=0&amp;eae=2&amp;fc=1920&amp;brdim=2556%2C4%2C2556%2C4%2C2560%2C0%2C1667%2C1380%2C1096%2C1248&amp;vis=1&amp;rsz=%7C%7Cs%7C&amp;abl=NS&amp;fu=8192&amp;bc=31&amp;ifi=0&amp;uci=a!0&amp;fsb=1&amp;dtd=405\" style=\"left:0;position:absolute;top:0;border:0;width:undefinedpx;height:undefinedpx;\" vspace=\"0\">\n     </iframe>\n    </ins>\n   </ins>\n  </ins>\n  <script id=\"megamenu-js-extra\" type=\"text/javascript\">\n   var megamenu = {\"timeout\":\"300\",\"interval\":\"100\"};\n  </script>\n  <script async=\"async\" defer=\"defer\" src=\"https://stats.wp.com/e-202053.js\" type=\"text/javascript\">\n  </script>\n  <script type=\"text/javascript\">\n   _stq = window._stq || [];\n\t_stq.push([ 'view', {v:'ext',j:'1:9.2.1',blog:'37359843',post:'7',tz:'0',srv:'space-facts.com'} ]);\n\t_stq.push([ 'clickTrackerInit', '37359843', '7' ]);\n  </script>\n  <script defer=\"\" src=\"https://space-facts.com/wp-content/cache/autoptimize/js/autoptimize_3b019290447fd2c9afe10d26d3d190c1.js\">\n  </script>\n  <img alt=\":)\" height=\"5\" id=\"wpstats\" src=\"https://pixel.wp.com/g.gif?v=ext&amp;j=1%3A9.2.1&amp;blog=37359843&amp;post=7&amp;tz=0&amp;srv=space-facts.com&amp;host=space-facts.com&amp;ref=&amp;fcp=1090&amp;rand=0.586051289705056\" width=\"6\"/>\n  <iframe id=\"google_osd_static_frame_2386468095603\" name=\"google_osd_static_frame\" style=\"display: none; width: 0px; height: 0px;\">\n  </iframe>\n  <aside class=\"widget widget_eu_cookie_law_widget clearfix\" id=\"eu_cookie_law_widget-2\">\n   <div class=\"hide-on-button negative\" data-consent-expiration=\"180\" data-hide-timeout=\"30\" id=\"eu-cookie-law\">\n    <form method=\"post\">\n     <input class=\"accept\" type=\"submit\" value=\"Close and accept\"/>\n    </form>\n    Privacy &amp; Cookies: This site uses cookies. By continuing to use this website, you agree to their use.\n    <br/>\n    To find out more, including how to control cookies, see here:\n    <a href=\"https://space-facts.com/privacy-policy/\" rel=\"\">\n     Cookie Policy\n    </a>\n   </div>\n  </aside>\n </body>\n <iframe data-ad-client=\"ca-pub-4251889121233823\" id=\"google_esf\" name=\"google_esf\" src=\"https://googleads.g.doubleclick.net/pagead/html/r20201203/r20190131/zrt_lookup.html#\" style=\"display: none;\">\n </iframe>\n</html>\n"
     ]
    }
   ],
   "source": [
    "# Converting html page to a beuatiful soup object\n",
    "facts_html = browser.html\n",
    "mars_facts = bs(facts_html, 'html.parser')\n",
    "print(mars_facts.prettify())"
   ]
  },
  {
   "cell_type": "code",
   "execution_count": null,
   "metadata": {},
   "outputs": [],
   "source": [
    "## find out if i can submit like this \\/"
   ]
  },
  {
   "cell_type": "code",
   "execution_count": 25,
   "metadata": {},
   "outputs": [
    {
     "output_type": "execute_result",
     "data": {
      "text/plain": [
       "[                      0                              1\n",
       " 0  Equatorial Diameter:                       6,792 km\n",
       " 1       Polar Diameter:                       6,752 km\n",
       " 2                 Mass:  6.39 × 10^23 kg (0.11 Earths)\n",
       " 3                Moons:            2 (Phobos & Deimos)\n",
       " 4       Orbit Distance:       227,943,824 km (1.38 AU)\n",
       " 5         Orbit Period:           687 days (1.9 years)\n",
       " 6  Surface Temperature:                   -87 to -5 °C\n",
       " 7         First Record:              2nd millennium BC\n",
       " 8          Recorded By:           Egyptian astronomers,\n",
       "   Mars - Earth Comparison             Mars            Earth\n",
       " 0               Diameter:         6,779 km        12,742 km\n",
       " 1                   Mass:  6.39 × 10^23 kg  5.97 × 10^24 kg\n",
       " 2                  Moons:                2                1\n",
       " 3      Distance from Sun:   227,943,824 km   149,598,262 km\n",
       " 4         Length of Year:   687 Earth days      365.24 days\n",
       " 5            Temperature:     -87 to -5 °C      -88 to 58°C,\n",
       "                       0                              1\n",
       " 0  Equatorial Diameter:                       6,792 km\n",
       " 1       Polar Diameter:                       6,752 km\n",
       " 2                 Mass:  6.39 × 10^23 kg (0.11 Earths)\n",
       " 3                Moons:            2 (Phobos & Deimos)\n",
       " 4       Orbit Distance:       227,943,824 km (1.38 AU)\n",
       " 5         Orbit Period:           687 days (1.9 years)\n",
       " 6  Surface Temperature:                   -87 to -5 °C\n",
       " 7         First Record:              2nd millennium BC\n",
       " 8          Recorded By:           Egyptian astronomers]"
      ]
     },
     "metadata": {},
     "execution_count": 25
    }
   ],
   "source": [
    "fact_table_html = pd.read_html('https://space-facts.com/mars/')\n",
    "fact_table_html"
   ]
  },
  {
   "cell_type": "code",
   "execution_count": 63,
   "metadata": {},
   "outputs": [
    {
     "data": {
      "text/html": [
       "<div>\n",
       "<style scoped>\n",
       "    .dataframe tbody tr th:only-of-type {\n",
       "        vertical-align: middle;\n",
       "    }\n",
       "\n",
       "    .dataframe tbody tr th {\n",
       "        vertical-align: top;\n",
       "    }\n",
       "\n",
       "    .dataframe thead th {\n",
       "        text-align: right;\n",
       "    }\n",
       "</style>\n",
       "<table border=\"1\" class=\"dataframe\">\n",
       "  <thead>\n",
       "    <tr style=\"text-align: right;\">\n",
       "      <th></th>\n",
       "      <th>0</th>\n",
       "      <th>1</th>\n",
       "    </tr>\n",
       "  </thead>\n",
       "  <tbody>\n",
       "    <tr>\n",
       "      <th>0</th>\n",
       "      <td>Equatorial Diameter:</td>\n",
       "      <td>6,792 km</td>\n",
       "    </tr>\n",
       "    <tr>\n",
       "      <th>1</th>\n",
       "      <td>Polar Diameter:</td>\n",
       "      <td>6,752 km</td>\n",
       "    </tr>\n",
       "    <tr>\n",
       "      <th>2</th>\n",
       "      <td>Mass:</td>\n",
       "      <td>6.39 × 10^23 kg (0.11 Earths)</td>\n",
       "    </tr>\n",
       "    <tr>\n",
       "      <th>3</th>\n",
       "      <td>Moons:</td>\n",
       "      <td>2 (Phobos &amp; Deimos)</td>\n",
       "    </tr>\n",
       "    <tr>\n",
       "      <th>4</th>\n",
       "      <td>Orbit Distance:</td>\n",
       "      <td>227,943,824 km (1.38 AU)</td>\n",
       "    </tr>\n",
       "    <tr>\n",
       "      <th>5</th>\n",
       "      <td>Orbit Period:</td>\n",
       "      <td>687 days (1.9 years)</td>\n",
       "    </tr>\n",
       "    <tr>\n",
       "      <th>6</th>\n",
       "      <td>Surface Temperature:</td>\n",
       "      <td>-87 to -5 °C</td>\n",
       "    </tr>\n",
       "    <tr>\n",
       "      <th>7</th>\n",
       "      <td>First Record:</td>\n",
       "      <td>2nd millennium BC</td>\n",
       "    </tr>\n",
       "    <tr>\n",
       "      <th>8</th>\n",
       "      <td>Recorded By:</td>\n",
       "      <td>Egyptian astronomers</td>\n",
       "    </tr>\n",
       "  </tbody>\n",
       "</table>\n",
       "</div>"
      ],
      "text/plain": [
       "                      0                              1\n",
       "0  Equatorial Diameter:                       6,792 km\n",
       "1       Polar Diameter:                       6,752 km\n",
       "2                 Mass:  6.39 × 10^23 kg (0.11 Earths)\n",
       "3                Moons:            2 (Phobos & Deimos)\n",
       "4       Orbit Distance:       227,943,824 km (1.38 AU)\n",
       "5         Orbit Period:           687 days (1.9 years)\n",
       "6  Surface Temperature:                   -87 to -5 °C\n",
       "7         First Record:              2nd millennium BC\n",
       "8          Recorded By:           Egyptian astronomers"
      ]
     },
     "execution_count": 63,
     "metadata": {},
     "output_type": "execute_result"
    }
   ],
   "source": [
    "fact_table_html[0]"
   ]
  },
  {
   "cell_type": "code",
   "execution_count": 27,
   "metadata": {},
   "outputs": [
    {
     "output_type": "execute_result",
     "data": {
      "text/plain": [
       "                                               Mars\n",
       "Description                                        \n",
       "Equatorial Diameter:                       6,792 km\n",
       "Polar Diameter:                            6,752 km\n",
       "Mass:                 6.39 × 10^23 kg (0.11 Earths)\n",
       "Moons:                          2 (Phobos & Deimos)\n",
       "Orbit Distance:            227,943,824 km (1.38 AU)\n",
       "Orbit Period:                  687 days (1.9 years)\n",
       "Surface Temperature:                   -87 to -5 °C\n",
       "First Record:                     2nd millennium BC\n",
       "Recorded By:                   Egyptian astronomers"
      ],
      "text/html": "<div>\n<style scoped>\n    .dataframe tbody tr th:only-of-type {\n        vertical-align: middle;\n    }\n\n    .dataframe tbody tr th {\n        vertical-align: top;\n    }\n\n    .dataframe thead th {\n        text-align: right;\n    }\n</style>\n<table border=\"1\" class=\"dataframe\">\n  <thead>\n    <tr style=\"text-align: right;\">\n      <th></th>\n      <th>Mars</th>\n    </tr>\n    <tr>\n      <th>Description</th>\n      <th></th>\n    </tr>\n  </thead>\n  <tbody>\n    <tr>\n      <th>Equatorial Diameter:</th>\n      <td>6,792 km</td>\n    </tr>\n    <tr>\n      <th>Polar Diameter:</th>\n      <td>6,752 km</td>\n    </tr>\n    <tr>\n      <th>Mass:</th>\n      <td>6.39 × 10^23 kg (0.11 Earths)</td>\n    </tr>\n    <tr>\n      <th>Moons:</th>\n      <td>2 (Phobos &amp; Deimos)</td>\n    </tr>\n    <tr>\n      <th>Orbit Distance:</th>\n      <td>227,943,824 km (1.38 AU)</td>\n    </tr>\n    <tr>\n      <th>Orbit Period:</th>\n      <td>687 days (1.9 years)</td>\n    </tr>\n    <tr>\n      <th>Surface Temperature:</th>\n      <td>-87 to -5 °C</td>\n    </tr>\n    <tr>\n      <th>First Record:</th>\n      <td>2nd millennium BC</td>\n    </tr>\n    <tr>\n      <th>Recorded By:</th>\n      <td>Egyptian astronomers</td>\n    </tr>\n  </tbody>\n</table>\n</div>"
     },
     "metadata": {},
     "execution_count": 27
    }
   ],
   "source": [
    "mars_facts_df = (fact_table_html[0].rename(columns={0:'Description', 1:'Mars'}))\n",
    "mars_facts_df.set_index(\"Description\", inplace=True)\n",
    "mars_facts_df"
   ]
  },
  {
   "cell_type": "code",
   "execution_count": 30,
   "metadata": {},
   "outputs": [],
   "source": [
    "# Creating an html table to render in the index.html page\n",
    "mars_facts_html = mars_facts_df.to_html()"
   ]
  },
  {
   "cell_type": "code",
   "execution_count": 35,
   "metadata": {},
   "outputs": [],
   "source": [
    "#Opening USGS website \n",
    "usgs_url = 'https://astrogeology.usgs.gov/search/results?q=hemisphere+enhanced&k1=target&v1=Mars'\n",
    "browser.visit(usgs_url)"
   ]
  },
  {
   "cell_type": "code",
   "execution_count": 36,
   "metadata": {},
   "outputs": [],
   "source": [
    "usgs_html = browser.html\n",
    "usgs = bs(usgs_html, 'html.parser')"
   ]
  },
  {
   "cell_type": "code",
   "execution_count": 48,
   "metadata": {},
   "outputs": [
    {
     "output_type": "stream",
     "name": "stdout",
     "text": [
      "Cerberus Hemisphere Enhanced\n",
      "https://astrogeology.usgs.gov/cache/images/f5e372a36edfa389625da6d0cc25d905_cerberus_enhanced.tif_full.jpg\n",
      "Schiaparelli Hemisphere Enhanced\n",
      "https://astrogeology.usgs.gov/cache/images/3778f7b43bbbc89d6e3cfabb3613ba93_schiaparelli_enhanced.tif_full.jpg\n",
      "Syrtis Major Hemisphere Enhanced\n",
      "https://astrogeology.usgs.gov/cache/images/555e6403a6ddd7ba16ddb0e471cadcf7_syrtis_major_enhanced.tif_full.jpg\n",
      "Valles Marineris Hemisphere Enhanced\n",
      "https://astrogeology.usgs.gov/cache/images/b3c7c6c9138f57b4756be9b9c43e3a48_valles_marineris_enhanced.tif_full.jpg\n"
     ]
    }
   ],
   "source": [
    "hemisphere_image_urls = []\n",
    "usgs_main = 'https://astrogeology.usgs.gov'\n",
    "\n",
    "hemispheres = usgs.find_all('div', class_='item')\n",
    "for hemi in hemispheres:\n",
    "    sphere = {}\n",
    "\n",
    "    title = hemi.find('h3').text\n",
    "\n",
    "    image_path = hemi.find('a', class_='itemLink product-item')['href']\n",
    "    browser.visit(usgs_main + image_path)\n",
    "\n",
    "    image_html = browser.html\n",
    "    image = bs(image_html, 'html.parser')\n",
    "    img_url = usgs_main + image.find('img', class_='wide-image')['src']\n",
    "\n",
    "    sphere['title'] = title\n",
    "    sphere['img_url'] = img_url\n",
    "\n",
    "    hemisphere_image_urls.append(sphere)\n",
    "    print(title)\n",
    "    print(img_url)"
   ]
  },
  {
   "cell_type": "code",
   "execution_count": 50,
   "metadata": {},
   "outputs": [
    {
     "output_type": "execute_result",
     "data": {
      "text/plain": [
       "[{'title': 'Cerberus Hemisphere Enhanced',\n",
       "  'img_url': 'https://astrogeology.usgs.gov/cache/images/f5e372a36edfa389625da6d0cc25d905_cerberus_enhanced.tif_full.jpg'},\n",
       " {'title': 'Schiaparelli Hemisphere Enhanced',\n",
       "  'img_url': 'https://astrogeology.usgs.gov/cache/images/3778f7b43bbbc89d6e3cfabb3613ba93_schiaparelli_enhanced.tif_full.jpg'},\n",
       " {'title': 'Syrtis Major Hemisphere Enhanced',\n",
       "  'img_url': 'https://astrogeology.usgs.gov/cache/images/555e6403a6ddd7ba16ddb0e471cadcf7_syrtis_major_enhanced.tif_full.jpg'},\n",
       " {'title': 'Valles Marineris Hemisphere Enhanced',\n",
       "  'img_url': 'https://astrogeology.usgs.gov/cache/images/b3c7c6c9138f57b4756be9b9c43e3a48_valles_marineris_enhanced.tif_full.jpg'}]"
      ]
     },
     "metadata": {},
     "execution_count": 50
    }
   ],
   "source": [
    "hemisphere_image_urls"
   ]
  },
  {
   "cell_type": "code",
   "execution_count": null,
   "metadata": {},
   "outputs": [],
   "source": [
    "<a href=\"/search/map/Mars/Viking/cerberus_enhanced\" class=\"itemLink product-item\"><h3>Cerberus Hemisphere Enhanced</h3></a>"
   ]
  }
 ],
 "metadata": {
  "kernelspec": {
   "display_name": "Python 3",
   "language": "python",
   "name": "python3"
  },
  "language_info": {
   "codemirror_mode": {
    "name": "ipython",
    "version": 3
   },
   "file_extension": ".py",
   "mimetype": "text/x-python",
   "name": "python",
   "nbconvert_exporter": "python",
   "pygments_lexer": "ipython3",
   "version": "3.8.3-final"
  }
 },
 "nbformat": 4,
 "nbformat_minor": 4
}